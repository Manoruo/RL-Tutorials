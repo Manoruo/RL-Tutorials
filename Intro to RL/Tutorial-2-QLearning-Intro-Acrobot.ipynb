{
 "cells": [
  {
   "cell_type": "markdown",
   "metadata": {},
   "source": [
    "# Q Learning Tutorial Discretizing Continuous Space\n",
    "(Provided by Sentdex - Youtube)"
   ]
  },
  {
   "cell_type": "code",
   "execution_count": 8,
   "metadata": {},
   "outputs": [],
   "source": [
    "import gym \n",
    "import cv2 \n",
    "import numpy as np \n",
    "import time "
   ]
  },
  {
   "cell_type": "code",
   "execution_count": 9,
   "metadata": {},
   "outputs": [
    {
     "data": {
      "text/plain": [
       "['CartPole-v0',\n",
       " 'CartPole-v1',\n",
       " 'MountainCar-v0',\n",
       " 'MountainCarContinuous-v0',\n",
       " 'Pendulum-v1',\n",
       " 'Acrobot-v1',\n",
       " 'LunarLander-v2',\n",
       " 'LunarLanderContinuous-v2',\n",
       " 'BipedalWalker-v3',\n",
       " 'BipedalWalkerHardcore-v3',\n",
       " 'CarRacing-v2',\n",
       " 'Blackjack-v1',\n",
       " 'FrozenLake-v1',\n",
       " 'FrozenLake8x8-v1',\n",
       " 'CliffWalking-v0',\n",
       " 'Taxi-v3',\n",
       " 'Reacher-v2',\n",
       " 'Reacher-v4',\n",
       " 'Pusher-v2',\n",
       " 'Pusher-v4',\n",
       " 'InvertedPendulum-v2',\n",
       " 'InvertedPendulum-v4',\n",
       " 'InvertedDoublePendulum-v2',\n",
       " 'InvertedDoublePendulum-v4',\n",
       " 'HalfCheetah-v2',\n",
       " 'HalfCheetah-v3',\n",
       " 'HalfCheetah-v4',\n",
       " 'Hopper-v2',\n",
       " 'Hopper-v3',\n",
       " 'Hopper-v4',\n",
       " 'Swimmer-v2',\n",
       " 'Swimmer-v3',\n",
       " 'Swimmer-v4',\n",
       " 'Walker2d-v2',\n",
       " 'Walker2d-v3',\n",
       " 'Walker2d-v4',\n",
       " 'Ant-v2',\n",
       " 'Ant-v3',\n",
       " 'Ant-v4',\n",
       " 'Humanoid-v2',\n",
       " 'Humanoid-v3',\n",
       " 'Humanoid-v4',\n",
       " 'HumanoidStandup-v2',\n",
       " 'HumanoidStandup-v4']"
      ]
     },
     "execution_count": 9,
     "metadata": {},
     "output_type": "execute_result"
    }
   ],
   "source": [
    "list(gym.envs.registry.keys())"
   ]
  },
  {
   "cell_type": "code",
   "execution_count": 10,
   "metadata": {},
   "outputs": [],
   "source": [
    "env = gym.make(\"Acrobot-v1\", render_mode='rgb_array')"
   ]
  },
  {
   "cell_type": "code",
   "execution_count": 11,
   "metadata": {},
   "outputs": [],
   "source": [
    "class Discretizer():\n",
    "    # having a q_Table for continous data is unfeasiable due to the infinite value the data could take on. Instead what we do is make it discrete using bins/ranges.\n",
    "    # this class helps us split each observation into a fixed amount of intervals\n",
    "    # Note: To determine how big the observation space really is, multiply the \"range\" of all observation together\n",
    "    def __init__(self, env, default_bins_per_observation = 20) -> None:\n",
    "        assert len(env.observation_space.shape) == 1, \"Invalid shape, could not discretize\"\n",
    "        \n",
    "\n",
    "        BUCKET_SIZE = default_bins_per_observation # how many discrete spaces we want (i.e. intervals)\n",
    "        NUM_OBSERVATIONS_PER_STATE = len(env.observation_space.high) # tells us how many \"observations\" are in our observation space (in this example we have 2, position and velocity)\n",
    "        UNIQUE_OBSERVATION = [BUCKET_SIZE] * NUM_OBSERVATIONS_PER_STATE  # this tells us the size of each unique observation in the observation space (ex: position - 20, velocity - 20)\n",
    "        observation_interval_size =  (env.observation_space.high - env.observation_space.low) / UNIQUE_OBSERVATION # how \"big\" each interval is\n",
    "\n",
    "\n",
    "        self.observation_interval_size = observation_interval_size\n",
    "        self.obs_bins_splits = UNIQUE_OBSERVATION\n",
    "\n",
    "        self.np_obs_bin_max = np.array(UNIQUE_OBSERVATION) - 1\n",
    "\n",
    "    \n",
    "    def get_discrete_state(self, state):\n",
    "        discrete_space = (state - env.observation_space.low) / self.observation_interval_size # this finds the corresponding bucket for the given state\n",
    "        discrete_space = np.clip(discrete_space, 0, self.np_obs_bin_max)\n",
    "        return tuple(discrete_space.astype(int)) # return as tuple so we can index into q_table\n"
   ]
  },
  {
   "cell_type": "code",
   "execution_count": 12,
   "metadata": {},
   "outputs": [],
   "source": [
    "class QAgent():\n",
    "\n",
    "    def __init__(self, env, discretizer=None) -> None:\n",
    "\n",
    "        # set statespace \n",
    "        observation_space = list(env.observation_space.shape)\n",
    "        \n",
    "        # update state space if discretizer present\n",
    "        self.discretizer = discretizer\n",
    "        if discretizer:\n",
    "            observation_space = discretizer.obs_bins_splits\n",
    "\n",
    "        # set tracking varaibles\n",
    "        self.num_actions = env.action_space.n\n",
    "        self.observation_space = observation_space\n",
    "\n",
    "        # setup q table \n",
    "        self.q_table = np.random.uniform(low=0, high=2, size=(self.observation_space + [self.num_actions]))\n",
    "        \n",
    "        # save enviornment to be used later\n",
    "        self.env = env \n",
    "\n",
    "\n",
    "    def playback(self, frames, episode):\n",
    "        while len(frames) > 0:\n",
    "            frame = frames.pop(0)\n",
    "            frame = cv2.cvtColor(frame, cv2.COLOR_RGB2BGR)\n",
    "            cv2.imshow(\"Last Play - {}\".format(episode), frame)\n",
    "            cv2.waitKey(30)\n",
    "        cv2.destroyAllWindows()\n",
    "\n",
    "    def train(self, episodes, dr=.95, lr=.001, play_every=100):\n",
    "\n",
    "        \n",
    "        for i in range(episodes):\n",
    "            state, _ = env.reset(seed=42)\n",
    "            discrete_state = (self.discretizer and self.discretizer.get_discrete_state(state)) or state \n",
    "            terminate = False \n",
    "            truncate = False \n",
    "            render = False \n",
    "\n",
    "            if i % play_every == 0:\n",
    "                print(f'Episode {i + 1}')\n",
    "                frames = []\n",
    "                render = True\n",
    "\n",
    "            while not terminate and not truncate:\n",
    "                action = np.argmax(self.q_table[discrete_state])\n",
    "                new_state, reward, terminate, truncate, info = env.step(action)\n",
    "                new_discrete_state = (self.discretizer and self.discretizer.get_discrete_state(new_state)) or new_state\n",
    "\n",
    "                max_future_q = np.max(self.q_table[new_discrete_state])\n",
    "                current_q = self.q_table[discrete_state + (action,)] # get the q_table for the observation combination we are at, then select the q value for the action that we took \n",
    "                \n",
    "                # Bellman Equation \n",
    "                new_q = (1 - lr) * current_q + lr * (reward + dr * max_future_q)\n",
    "\n",
    "                # update q_table \n",
    "                self.q_table[discrete_state + (action,)] = new_q\n",
    "\n",
    "                # keep track of previous state \n",
    "                discrete_state = new_discrete_state\n",
    "\n",
    "                if render:\n",
    "                    frames.append(env.render())\n",
    "            \n",
    "            if render:\n",
    "                self.playback(frames, i)\n"
   ]
  },
  {
   "cell_type": "code",
   "execution_count": 13,
   "metadata": {},
   "outputs": [],
   "source": [
    "dis = Discretizer(env, default_bins_per_observation=8)\n",
    "agent = QAgent(env, dis)"
   ]
  },
  {
   "cell_type": "code",
   "execution_count": 14,
   "metadata": {},
   "outputs": [
    {
     "name": "stdout",
     "output_type": "stream",
     "text": [
      "Episode 1\n"
     ]
    },
    {
     "ename": "KeyboardInterrupt",
     "evalue": "",
     "output_type": "error",
     "traceback": [
      "\u001b[0;31m---------------------------------------------------------------------------\u001b[0m",
      "\u001b[0;31mKeyboardInterrupt\u001b[0m                         Traceback (most recent call last)",
      "Cell \u001b[0;32mIn[14], line 1\u001b[0m\n\u001b[0;32m----> 1\u001b[0m \u001b[43magent\u001b[49m\u001b[38;5;241;43m.\u001b[39;49m\u001b[43mtrain\u001b[49m\u001b[43m(\u001b[49m\u001b[43mepisodes\u001b[49m\u001b[38;5;241;43m=\u001b[39;49m\u001b[38;5;241;43m10000\u001b[39;49m\u001b[43m,\u001b[49m\u001b[43m \u001b[49m\u001b[43mlr\u001b[49m\u001b[38;5;241;43m=\u001b[39;49m\u001b[38;5;241;43m.1\u001b[39;49m\u001b[43m,\u001b[49m\u001b[43m \u001b[49m\u001b[43mplay_every\u001b[49m\u001b[38;5;241;43m=\u001b[39;49m\u001b[38;5;241;43m1000\u001b[39;49m\u001b[43m)\u001b[49m\n",
      "Cell \u001b[0;32mIn[12], line 68\u001b[0m, in \u001b[0;36mQAgent.train\u001b[0;34m(self, episodes, dr, lr, play_every)\u001b[0m\n\u001b[1;32m     65\u001b[0m         frames\u001b[38;5;241m.\u001b[39mappend(env\u001b[38;5;241m.\u001b[39mrender())\n\u001b[1;32m     67\u001b[0m \u001b[38;5;28;01mif\u001b[39;00m render:\n\u001b[0;32m---> 68\u001b[0m     \u001b[38;5;28;43mself\u001b[39;49m\u001b[38;5;241;43m.\u001b[39;49m\u001b[43mplayback\u001b[49m\u001b[43m(\u001b[49m\u001b[43mframes\u001b[49m\u001b[43m,\u001b[49m\u001b[43m \u001b[49m\u001b[43mi\u001b[49m\u001b[43m)\u001b[49m\n",
      "Cell \u001b[0;32mIn[12], line 29\u001b[0m, in \u001b[0;36mQAgent.playback\u001b[0;34m(self, frames, episode)\u001b[0m\n\u001b[1;32m     27\u001b[0m     frame \u001b[38;5;241m=\u001b[39m cv2\u001b[38;5;241m.\u001b[39mcvtColor(frame, cv2\u001b[38;5;241m.\u001b[39mCOLOR_RGB2BGR)\n\u001b[1;32m     28\u001b[0m     cv2\u001b[38;5;241m.\u001b[39mimshow(\u001b[38;5;124m\"\u001b[39m\u001b[38;5;124mLast Play - \u001b[39m\u001b[38;5;132;01m{}\u001b[39;00m\u001b[38;5;124m\"\u001b[39m\u001b[38;5;241m.\u001b[39mformat(episode), frame)\n\u001b[0;32m---> 29\u001b[0m     \u001b[43mcv2\u001b[49m\u001b[38;5;241;43m.\u001b[39;49m\u001b[43mwaitKey\u001b[49m\u001b[43m(\u001b[49m\u001b[38;5;241;43m30\u001b[39;49m\u001b[43m)\u001b[49m\n\u001b[1;32m     30\u001b[0m cv2\u001b[38;5;241m.\u001b[39mdestroyAllWindows()\n",
      "\u001b[0;31mKeyboardInterrupt\u001b[0m: "
     ]
    }
   ],
   "source": [
    "agent.train(episodes=10000, lr=.1, play_every=1000)"
   ]
  }
 ],
 "metadata": {
  "kernelspec": {
   "display_name": "RL",
   "language": "python",
   "name": "python3"
  },
  "language_info": {
   "codemirror_mode": {
    "name": "ipython",
    "version": 3
   },
   "file_extension": ".py",
   "mimetype": "text/x-python",
   "name": "python",
   "nbconvert_exporter": "python",
   "pygments_lexer": "ipython3",
   "version": "3.8.16"
  }
 },
 "nbformat": 4,
 "nbformat_minor": 2
}
