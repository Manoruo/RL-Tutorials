{
 "cells": [
  {
   "cell_type": "code",
   "execution_count": 14,
   "metadata": {},
   "outputs": [],
   "source": [
    "import gymnasium as gym\n",
    "import math\n",
    "import random\n",
    "import matplotlib\n",
    "import matplotlib.pyplot as plt\n",
    "from collections import namedtuple, deque\n",
    "from itertools import count\n",
    "\n",
    "import torch\n",
    "import torch.nn as nn\n",
    "import torch.optim as optim\n",
    "import torch.nn.functional as F\n",
    "from IPython.display import Video\n",
    "import imageio\n",
    "import os"
   ]
  },
  {
   "cell_type": "code",
   "execution_count": null,
   "metadata": {},
   "outputs": [],
   "source": [
    "ENV_NAME = \"MountainCar-v0\"\n",
    "PATH = f'Models/DQN/{ENV_NAME}/'\n",
    "MODEL_FILE = os.path.join(PATH, ENV_NAME + \".pth\")\n",
    "EVAL_VIDEO_FILE = os.path.join(PATH, f'{ENV_NAME}_eval_video.mp4')\n",
    "PLOT_TRAINING = False\n",
    "os.makedirs(PATH, exist_ok=True)"
   ]
  },
  {
   "cell_type": "code",
   "execution_count": 16,
   "metadata": {},
   "outputs": [],
   "source": [
    "env = gym.make(ENV_NAME, render_mode='rgb_array')\n",
    "# Get number of actions + observations from gym action space\n",
    "n_actions = env.action_space.n\n",
    "state, info = env.reset()\n",
    "n_observations = len(state)"
   ]
  },
  {
   "cell_type": "code",
   "execution_count": 17,
   "metadata": {},
   "outputs": [
    {
     "data": {
      "text/plain": [
       "<contextlib.ExitStack at 0x178ab5040>"
      ]
     },
     "execution_count": 17,
     "metadata": {},
     "output_type": "execute_result"
    }
   ],
   "source": [
    "# set up matplotlib\n",
    "is_ipython = 'inline' in matplotlib.get_backend()\n",
    "if is_ipython:\n",
    "    from IPython import display\n",
    "\n",
    "plt.ion()"
   ]
  },
  {
   "cell_type": "code",
   "execution_count": 18,
   "metadata": {},
   "outputs": [
    {
     "data": {
      "text/plain": [
       "device(type='mps')"
      ]
     },
     "execution_count": 18,
     "metadata": {},
     "output_type": "execute_result"
    }
   ],
   "source": [
    "# if GPU is to be used\n",
    "device = torch.device(\n",
    "    \"cuda\" if torch.cuda.is_available() else\n",
    "    \"mps\" if torch.backends.mps.is_available() else\n",
    "    \"cpu\"\n",
    ")\n",
    "device"
   ]
  },
  {
   "cell_type": "code",
   "execution_count": 19,
   "metadata": {},
   "outputs": [],
   "source": [
    "Transition = namedtuple('Transition',\n",
    "                        ('state', 'action', 'next_state', 'reward'))\n",
    "\n",
    "\n",
    "# Create a Queue that will store each S,A,S,R \n",
    "class ReplayMemory(object):\n",
    "\n",
    "    # make a queue \n",
    "    def __init__(self, capacity):\n",
    "        self.memory = deque([], maxlen=capacity)\n",
    "\n",
    "    # Puts S,A,S,R on the queue (FIFO)\n",
    "    def push(self, *args):\n",
    "        self.memory.append(Transition(*args))\n",
    "\n",
    "    # Select random entries\n",
    "    def sample(self, batch_size):\n",
    "        return random.sample(self.memory, batch_size)\n",
    "    \n",
    "    # get the length of our memory\n",
    "    def __len__(self):\n",
    "        return len(self.memory)"
   ]
  },
  {
   "cell_type": "code",
   "execution_count": 20,
   "metadata": {},
   "outputs": [],
   "source": [
    "class DQN(nn.Module):\n",
    "\n",
    "    def __init__(self, n_observations, n_actions):\n",
    "        super(DQN, self).__init__() \n",
    "\n",
    "        self.layer1 = nn.Linear(n_observations, 128)\n",
    "        self.layer2 = nn.Linear(128, 128)\n",
    "        self.layer3 = nn.Linear(128, n_actions)\n",
    "\n",
    "    def forward(self, x):\n",
    "        out = F.relu(self.layer1(x))\n",
    "        out = F.relu(self.layer2(out))\n",
    "        return self.layer3(out) \n"
   ]
  },
  {
   "cell_type": "markdown",
   "metadata": {},
   "source": [
    "# Setup Training Varaibles + Algo"
   ]
  },
  {
   "cell_type": "code",
   "execution_count": 21,
   "metadata": {},
   "outputs": [],
   "source": [
    "# BATCH_SIZE is the number of transitions sampled from the replay buffer\n",
    "# GAMMA is the discount factor as mentioned in the previous section\n",
    "# EPS_START is the starting value of epsilon\n",
    "# EPS_END is the final value of epsilon\n",
    "# EPS_DECAY controls the rate of exponential decay of epsilon, higher means a slower decay\n",
    "# TAU is the update rate of the target network\n",
    "# LR is the learning rate of the ``AdamW`` optimizer\n",
    "BATCH_SIZE = 128\n",
    "GAMMA = 0.99\n",
    "EPS_START = 0.9\n",
    "EPS_END = 0.05\n",
    "EPS_DECAY = 1000\n",
    "TAU = 0.005\n",
    "LR = 1e-4\n",
    "\n",
    "\n",
    "policy_net = DQN(n_observations, n_actions).to(device)\n",
    "target_net = DQN(n_observations, n_actions).to(device)\n",
    "target_net.load_state_dict(policy_net.state_dict())\n",
    "\n",
    "optimizer = optim.AdamW(policy_net.parameters(), lr=LR, amsgrad=True)\n",
    "memory = ReplayMemory(10000) # this must always be greater than the batch size"
   ]
  },
  {
   "cell_type": "code",
   "execution_count": 22,
   "metadata": {},
   "outputs": [],
   "source": [
    "# Epsilon-greedy policy: balances exploration and exploitation\n",
    "steps_done = 0\n",
    "\n",
    "def eps_greedy(state):\n",
    "    global steps_done\n",
    "    sample = random.random()\n",
    "\n",
    "    # Calculate epsilon: decreases over time to explore less\n",
    "    eps_threshold = EPS_END + (EPS_START - EPS_END) * math.exp(-steps_done / EPS_DECAY)\n",
    "    steps_done += 1\n",
    "\n",
    "    if sample > eps_threshold:\n",
    "        # Exploitation: choose the best action\n",
    "        with torch.no_grad():\n",
    "            return policy_net(state).argmax(dim=1).view(1, 1)\n",
    "    else:\n",
    "        # Exploration: choose a random action\n",
    "        return torch.tensor([[env.action_space.sample()]], device=device, dtype=torch.long)\n"
   ]
  },
  {
   "cell_type": "code",
   "execution_count": 23,
   "metadata": {},
   "outputs": [],
   "source": [
    "# List to store the duration of each episode\n",
    "episode_durations = []\n",
    "\n",
    "def plot_durations(show_result=False):\n",
    "    # Create or select the figure for plotting\n",
    "    plt.figure(1)\n",
    "    durations_t = torch.tensor(episode_durations, dtype=torch.float)\n",
    "    \n",
    "    # Set the title based on whether it's the final result or ongoing training\n",
    "    if show_result:\n",
    "        plt.title('Result')\n",
    "    else:\n",
    "        plt.clf()  # Clear the current figure for live updates\n",
    "        plt.title('Training...')\n",
    "    \n",
    "    # Label the axes and plot the episode durations\n",
    "    plt.xlabel('Episode')\n",
    "    plt.ylabel('Duration')\n",
    "    plt.plot(durations_t.numpy())\n",
    "    \n",
    "    # Plot the 100-episode running average for smoother trends\n",
    "    if len(durations_t) >= 100:\n",
    "        # Calculate the running average using a sliding window of 100 episodes\n",
    "        means = durations_t.unfold(0, 100, 1).mean(1).view(-1)\n",
    "        # Pad the beginning with zeros to align with the episode timeline\n",
    "        means = torch.cat((torch.zeros(99), means))\n",
    "        plt.plot(means.numpy())\n",
    "    \n",
    "    # Briefly pause to allow the plot to update in real-time\n",
    "    plt.pause(0.001)\n",
    "    \n",
    "    # Handle interactive display for Jupyter Notebooks (if applicable)\n",
    "    if is_ipython:\n",
    "        if not show_result:\n",
    "            display.display(plt.gcf())\n",
    "            display.clear_output(wait=True)  # Clear the output for live updates\n",
    "        else:\n",
    "            display.display(plt.gcf())  # Display the final result\n"
   ]
  },
  {
   "cell_type": "code",
   "execution_count": 24,
   "metadata": {},
   "outputs": [],
   "source": [
    "def optimize_model():\n",
    "    # Exit if there aren't enough samples\n",
    "    if len(memory) < BATCH_SIZE:\n",
    "        return\n",
    "\n",
    "    # Sample a batch of transitions and unpack into separate batches\n",
    "    transitions = memory.sample(BATCH_SIZE)\n",
    "    batch = Transition(*zip(*transitions))\n",
    "\n",
    "    # Prepare batches for states, actions, rewards, and non-final next states\n",
    "    non_final_mask = torch.tensor([s is not None for s in batch.next_state], device=device, dtype=torch.bool) # tells us if end state or not\n",
    "    non_final_next_states = torch.cat([s for s in batch.next_state if s is not None])\n",
    "    state_batch = torch.cat(batch.state)\n",
    "    action_batch = torch.cat(batch.action)\n",
    "    reward_batch = torch.cat(batch.reward)\n",
    "\n",
    "    # Calculate Q-values for current states and actions\n",
    "    state_action_values = policy_net(state_batch).gather(1, action_batch)\n",
    "\n",
    "    # Calculate expected Q-values for next states\n",
    "    next_state_values = torch.zeros(BATCH_SIZE, device=device)\n",
    "    with torch.no_grad():\n",
    "        next_state_values[non_final_mask] = target_net(non_final_next_states).max(1).values\n",
    "\n",
    "    # this is the predicted \"target\" or estimated ground truth goodness of the state action pair we are looking at \n",
    "    expected_state_action_values = reward_batch + (GAMMA * next_state_values)\n",
    "\n",
    "    # Compute loss and update model (we want the policy network to basically predict the estimated goodness, so we just take the error between the current output and the estimated ground truth)\n",
    "    loss = nn.SmoothL1Loss()(state_action_values, expected_state_action_values.unsqueeze(1))\n",
    "    optimizer.zero_grad()\n",
    "    loss.backward()\n",
    "    torch.nn.utils.clip_grad_value_(policy_net.parameters(), 100)\n",
    "    optimizer.step()\n"
   ]
  },
  {
   "cell_type": "markdown",
   "metadata": {},
   "source": [
    "# Train Model"
   ]
  },
  {
   "cell_type": "code",
   "execution_count": null,
   "metadata": {},
   "outputs": [
    {
     "ename": "KeyboardInterrupt",
     "evalue": "",
     "output_type": "error",
     "traceback": [
      "\u001b[0;31m---------------------------------------------------------------------------\u001b[0m",
      "\u001b[0;31mKeyboardInterrupt\u001b[0m                         Traceback (most recent call last)",
      "Cell \u001b[0;32mIn[25], line 35\u001b[0m\n\u001b[1;32m     32\u001b[0m state \u001b[38;5;241m=\u001b[39m next_state\n\u001b[1;32m     34\u001b[0m \u001b[38;5;66;03m# Perform one step of the optimization (on the policy network)\u001b[39;00m\n\u001b[0;32m---> 35\u001b[0m \u001b[43moptimize_model\u001b[49m\u001b[43m(\u001b[49m\u001b[43m)\u001b[49m\n\u001b[1;32m     37\u001b[0m \u001b[38;5;66;03m# Soft update of the target network's weights\u001b[39;00m\n\u001b[1;32m     38\u001b[0m \u001b[38;5;66;03m# θ′ ← τ θ + (1 −τ )θ′\u001b[39;00m\n\u001b[1;32m     39\u001b[0m target_net_state_dict \u001b[38;5;241m=\u001b[39m target_net\u001b[38;5;241m.\u001b[39mstate_dict()\n",
      "Cell \u001b[0;32mIn[24], line 23\u001b[0m, in \u001b[0;36moptimize_model\u001b[0;34m()\u001b[0m\n\u001b[1;32m     21\u001b[0m next_state_values \u001b[38;5;241m=\u001b[39m torch\u001b[38;5;241m.\u001b[39mzeros(BATCH_SIZE, device\u001b[38;5;241m=\u001b[39mdevice)\n\u001b[1;32m     22\u001b[0m \u001b[38;5;28;01mwith\u001b[39;00m torch\u001b[38;5;241m.\u001b[39mno_grad():\n\u001b[0;32m---> 23\u001b[0m     \u001b[43mnext_state_values\u001b[49m\u001b[43m[\u001b[49m\u001b[43mnon_final_mask\u001b[49m\u001b[43m]\u001b[49m \u001b[38;5;241m=\u001b[39m target_net(non_final_next_states)\u001b[38;5;241m.\u001b[39mmax(\u001b[38;5;241m1\u001b[39m)\u001b[38;5;241m.\u001b[39mvalues\n\u001b[1;32m     25\u001b[0m \u001b[38;5;66;03m# this is the predicted \"target\" or estimated ground truth goodness of the state action pair we are looking at \u001b[39;00m\n\u001b[1;32m     26\u001b[0m expected_state_action_values \u001b[38;5;241m=\u001b[39m reward_batch \u001b[38;5;241m+\u001b[39m (GAMMA \u001b[38;5;241m*\u001b[39m next_state_values)\n",
      "\u001b[0;31mKeyboardInterrupt\u001b[0m: "
     ]
    },
    {
     "data": {
      "text/plain": [
       "<Figure size 640x480 with 0 Axes>"
      ]
     },
     "metadata": {},
     "output_type": "display_data"
    }
   ],
   "source": [
    "if torch.cuda.is_available() or torch.backends.mps.is_available():\n",
    "    num_episodes = 600\n",
    "else:\n",
    "    num_episodes = 50\n",
    "\n",
    "for i_episode in range(num_episodes):\n",
    "    # Initialize the environment and get its state\n",
    "    state, info = env.reset()\n",
    "    state = torch.tensor(state, dtype=torch.float32, device=device).unsqueeze(0)\n",
    "    total_reward = 0 \n",
    "\n",
    "    if i_episode % 100 == 0:\n",
    "        frames = []\n",
    "\n",
    "    for t in count():\n",
    "        action = eps_greedy(state)\n",
    "        observation, reward, terminated, truncated, _ = env.step(action.item())\n",
    "        total_reward += reward\n",
    "        reward = torch.tensor([reward], device=device)\n",
    "        done = terminated or truncated\n",
    "\n",
    "        if i_episode % 100 == 0:\n",
    "            frames.append(env.render())\n",
    "\n",
    "        if terminated:\n",
    "            next_state = None\n",
    "        else:\n",
    "            next_state = torch.tensor(observation, dtype=torch.float32, device=device).unsqueeze(0)\n",
    "\n",
    "        # Store the transition in memory\n",
    "        memory.push(state, action, next_state, reward)\n",
    "\n",
    "        # Move to the next state\n",
    "        state = next_state\n",
    "\n",
    "        # Perform one step of the optimization (on the policy network)\n",
    "        optimize_model()\n",
    "\n",
    "        # Soft update of the target network's weights\n",
    "        # θ′ ← τ θ + (1 −τ )θ′\n",
    "        target_net_state_dict = target_net.state_dict()\n",
    "        policy_net_state_dict = policy_net.state_dict()\n",
    "        for key in policy_net_state_dict:\n",
    "            target_net_state_dict[key] = policy_net_state_dict[key]*TAU + target_net_state_dict[key]*(1-TAU)\n",
    "        target_net.load_state_dict(target_net_state_dict)\n",
    "\n",
    "        if done:\n",
    "            episode_durations.append(t + 1)\n",
    "            if  PLOT_TRAINING:\n",
    "                plot_durations()\n",
    "            else:\n",
    "                print(f\"Episode : {i_episode} | Duration: {t + 1} | Total Reward : {total_reward}\")\n",
    "            break\n",
    "    \n",
    "    if len(frames) > 0:\n",
    "        video_path = os.path.join(PATH, f'{ENV_NAME}_train_video_ep_{i_episode}.mp4')\n",
    "        imageio.mimsave(video_path, frames, fps=20)\n",
    "        frames = []\n",
    "\n",
    "print('Complete')\n",
    "plot_durations(show_result=True)\n",
    "plt.ioff()\n",
    "plt.show()"
   ]
  },
  {
   "cell_type": "markdown",
   "metadata": {},
   "source": [
    "# Save Model"
   ]
  },
  {
   "cell_type": "code",
   "execution_count": null,
   "metadata": {},
   "outputs": [
    {
     "data": {
      "text/plain": [
       "DQN(\n",
       "  (layer1): Linear(in_features=4, out_features=128, bias=True)\n",
       "  (layer2): Linear(in_features=128, out_features=128, bias=True)\n",
       "  (layer3): Linear(in_features=128, out_features=2, bias=True)\n",
       ")"
      ]
     },
     "execution_count": 13,
     "metadata": {},
     "output_type": "execute_result"
    }
   ],
   "source": [
    "torch.save(policy_net.state_dict(), MODEL_FILE)\n",
    "policy_net.eval()  # Set the model to evaluation mode"
   ]
  },
  {
   "cell_type": "markdown",
   "metadata": {},
   "source": [
    "# Load Model"
   ]
  },
  {
   "cell_type": "code",
   "execution_count": null,
   "metadata": {},
   "outputs": [
    {
     "name": "stderr",
     "output_type": "stream",
     "text": [
      "/var/folders/tn/2w8rrhcd1pg6dh6_lfl7w3mm0000gn/T/ipykernel_43831/2372278560.py:3: FutureWarning: You are using `torch.load` with `weights_only=False` (the current default value), which uses the default pickle module implicitly. It is possible to construct malicious pickle data which will execute arbitrary code during unpickling (See https://github.com/pytorch/pytorch/blob/main/SECURITY.md#untrusted-models for more details). In a future release, the default value for `weights_only` will be flipped to `True`. This limits the functions that could be executed during unpickling. Arbitrary objects will no longer be allowed to be loaded via this mode unless they are explicitly allowlisted by the user via `torch.serialization.add_safe_globals`. We recommend you start setting `weights_only=True` for any use case where you don't have full control of the loaded file. Please open an issue on GitHub for any issues related to this experimental feature.\n",
      "  model.load_state_dict(torch.load(MODEL_FILE))\n"
     ]
    },
    {
     "data": {
      "text/plain": [
       "DQN(\n",
       "  (layer1): Linear(in_features=4, out_features=128, bias=True)\n",
       "  (layer2): Linear(in_features=128, out_features=128, bias=True)\n",
       "  (layer3): Linear(in_features=128, out_features=2, bias=True)\n",
       ")"
      ]
     },
     "execution_count": 12,
     "metadata": {},
     "output_type": "execute_result"
    }
   ],
   "source": [
    "# Assuming `model` is your model class\n",
    "model = DQN(n_observations, n_actions)  # Reinstantiate the model\n",
    "model.load_state_dict(torch.load(MODEL_FILE))\n",
    "model.to(device)\n",
    "model.eval()  # Set the model to evaluation mode"
   ]
  },
  {
   "cell_type": "markdown",
   "metadata": {},
   "source": [
    "# Test The Model"
   ]
  },
  {
   "cell_type": "code",
   "execution_count": null,
   "metadata": {},
   "outputs": [
    {
     "name": "stdout",
     "output_type": "stream",
     "text": [
      "Episode ended after 439 steps\n"
     ]
    },
    {
     "name": "stderr",
     "output_type": "stream",
     "text": [
      "IMAGEIO FFMPEG_WRITER WARNING: input image is not divisible by macro_block_size=16, resizing from (600, 400) to (608, 400) to ensure video compatibility with most codecs and players. To prevent resizing, make your input image divisible by the macro_block_size or set the macro_block_size to 1 (risking incompatibility).\n"
     ]
    },
    {
     "data": {
      "text/html": [
       "<video controls  >\n",
       " <source src=\"data:video/mp4;base64,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\" type=\"video/mp4\">\n",
       " Your browser does not support the video tag.\n",
       " </video>"
      ],
      "text/plain": [
       "<IPython.core.display.Video object>"
      ]
     },
     "execution_count": 13,
     "metadata": {},
     "output_type": "execute_result"
    }
   ],
   "source": [
    "env = gym.make(ENV_NAME, render_mode='rgb_array')\n",
    "env.reset()\n",
    "frames = []\n",
    "\n",
    "# Initialize the environment and get its state\n",
    "state, info = env.reset()\n",
    "\n",
    "for i_episode in range(1000):\n",
    "\n",
    "    state = torch.tensor(state, dtype=torch.float32, device=device).unsqueeze(0)\n",
    "    action = model(state).argmax(dim=1).view(1, 1)\n",
    "    observation, reward, terminated, truncated, _ = env.step(action.item())\n",
    "\n",
    "    if terminated or truncated:\n",
    "        print(f\"Episode ended after {i_episode+1} steps\")\n",
    "        break\n",
    "\n",
    "    frames.append(env.render())\n",
    "    state = observation\n",
    "\n",
    "env.close()\n",
    "\n",
    "imageio.mimsave(EVAL_VIDEO_FILE, frames, fps=20)\n",
    "Video(EVAL_VIDEO_FILE, embed=True) # Display the video in Jupyter Notebook"
   ]
  }
 ],
 "metadata": {
  "kernelspec": {
   "display_name": "RL",
   "language": "python",
   "name": "python3"
  },
  "language_info": {
   "codemirror_mode": {
    "name": "ipython",
    "version": 3
   },
   "file_extension": ".py",
   "mimetype": "text/x-python",
   "name": "python",
   "nbconvert_exporter": "python",
   "pygments_lexer": "ipython3",
   "version": "3.8.16"
  }
 },
 "nbformat": 4,
 "nbformat_minor": 2
}
